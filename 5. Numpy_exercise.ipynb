{
 "cells": [
  {
   "cell_type": "markdown",
   "metadata": {},
   "source": [
    "## Opis zbiory danych\n",
    "\n",
    "Zbiór danych zawiera (zmyślone) wyniki pomiarów ciśnienia tętniczego krwi pacjenta X. Były one wykonywane przez __14 dni__. Każdego dnia pacjent dokonywał trzech serii pomiarowych - __rano__, __w południe__ i __wieczorem__. Każda seria pomiarowa składała się z __trzech pomiarów__ (dla uzyskania dokładniejszych wyników, jako że aparat do pomiaru ciśnienia nie posiadał funkcji automatycznego uśredniania wyników). Każdy pomiar składa się z dwóch wartości - __ciśnienia skurczowego__ i __ciśnienia rozkurczowego__.\n",
    "\n",
    "Uzyskane wartości są zapisane w mm Hg (milimetry słupka rtęci - https://pl.wikipedia.org/wiki/Milimetr_s%C5%82upa_rt%C4%99ci).\n",
    "W uogólnieniu - prawidłowe wartości plasują się poniżej 120/80 (w przypadku __obu__ wartości)."
   ]
  },
  {
   "cell_type": "code",
   "execution_count": 1,
   "metadata": {},
   "outputs": [],
   "source": [
    "import numpy as np"
   ]
  },
  {
   "cell_type": "code",
   "execution_count": 2,
   "metadata": {},
   "outputs": [],
   "source": [
    "PLAIN_DATA = [\n",
    "    [ # pomiar dla jednego dnia\n",
    "        [(125, 85), (124, 87), (127, 88)], # pomiary ranne\n",
    "        [(134, 89), (130, 87), (132, 85)], # pomiary w południe\n",
    "        [(119, 79), (122, 78), (120, 80)], # pomiary wieczorem\n",
    "    ],\n",
    "    [\n",
    "        [(110, 70), (127, 71), (139, 83)],\n",
    "        [(118, 96), (140, 82), (112, 70)],\n",
    "        [(104, 73), (130, 88), (141, 73)]\n",
    "    ],\n",
    "    [\n",
    "        [(124, 65), (113, 70), (131, 67)],\n",
    "        [(139, 86), (117, 82), (121, 79)],\n",
    "        [(123, 65), (134, 73), (107, 78)]\n",
    "    ],\n",
    "    [\n",
    "        [(125, 81), (121, 76), (129, 76)],\n",
    "        [(124, 78), (141, 79), (102, 82)],\n",
    "        [(101, 87), (128, 84), (107, 70)]\n",
    "    ],\n",
    "    [\n",
    "        [(118, 81), (112, 71), (126, 74)],\n",
    "        [(113, 74), (126, 84), (132, 80)],\n",
    "        [(125, 75), (112, 77), (134, 76)]\n",
    "    ],\n",
    "    [\n",
    "        [(115, 88), (140, 65), (129, 85)],\n",
    "        [(115, 86), (117, 77), (108, 94)],\n",
    "        [(110, 67), (107, 90), (108, 70)]\n",
    "    ],\n",
    "    [\n",
    "        [(137, 65), (136, 76), (112, 76)],\n",
    "        [(111, 79), (129, 89), (137, 80)],\n",
    "        [(108, 72), (111, 84), (132, 89)]\n",
    "    ],\n",
    "    [\n",
    "        [(110, 93), (120, 82), (133, 82)],\n",
    "        [(124, 84), (136, 72), (121, 85)],\n",
    "        [(120, 90), (109, 68), (128, 84)]\n",
    "    ],\n",
    "    [\n",
    "        [(108, 87), (125, 94), (114, 71)],\n",
    "        [(139, 89), (141, 65), (105, 95)],\n",
    "        [(116, 79), (125, 76), (126, 67)]\n",
    "    ],\n",
    "    [\n",
    "        [(125, 75), (124, 72), (104, 77)],\n",
    "        [(134, 67), (111, 81), (124, 68)],\n",
    "        [(132, 89), (126, 68), (116, 85)]\n",
    "    ],\n",
    "    [\n",
    "        [(133, 85), (128, 87), (107, 76)],\n",
    "        [(126, 79), (123, 74), (138, 79)],\n",
    "        [(136, 74), (107, 75), (100, 80)]\n",
    "    ],\n",
    "    [\n",
    "        [(134, 71), (118, 89), (130, 87)],\n",
    "        [(128, 73), (111, 92), (127, 83)],\n",
    "        [(122, 83), (124, 88), (119, 92)]\n",
    "    ],\n",
    "    [\n",
    "        [(117, 66), (120, 91), (115, 80)],\n",
    "        [(111, 80), (132, 77), (128, 94)],\n",
    "        [(106, 89), (126, 70), (114, 72)]\n",
    "    ],\n",
    "    [\n",
    "        [(122, 77), (120, 91), (118, 80)],\n",
    "        [(130, 80), (128, 77), (130, 94)],\n",
    "        [(116, 89), (126, 70), (120, 72)]\n",
    "    ]\n",
    "]"
   ]
  },
  {
   "cell_type": "markdown",
   "metadata": {},
   "source": [
    "**Zadanie 1.** Załaduj dane do tablicy numpy"
   ]
  },
  {
   "cell_type": "code",
   "execution_count": 3,
   "metadata": {},
   "outputs": [],
   "source": [
    "NUMPY_DATA = np.array(PLAIN_DATA)"
   ]
  },
  {
   "cell_type": "code",
   "execution_count": 4,
   "metadata": {},
   "outputs": [
    {
     "data": {
      "text/plain": [
       "(14, 3, 3, 2)"
      ]
     },
     "execution_count": 4,
     "metadata": {},
     "output_type": "execute_result"
    }
   ],
   "source": [
    "NUMPY_DATA.shape"
   ]
  },
  {
   "cell_type": "markdown",
   "metadata": {},
   "source": [
    "**Zadanie 2.** Policz średnie ciśnienie krwi ze wszystkich pomiarów"
   ]
  },
  {
   "cell_type": "code",
   "execution_count": 88,
   "metadata": {},
   "outputs": [
    {
     "name": "stdout",
     "output_type": "stream",
     "text": [
      "Mean for all measurments: [122.  80.]\n"
     ]
    }
   ],
   "source": [
    "print(\"Mean for all measurments: {0}\".format(np.around(np.mean(NUMPY_DATA, axis=(0,1,2)))))"
   ]
  },
  {
   "cell_type": "markdown",
   "metadata": {},
   "source": [
    "**Zadanie 3.** Policz odchylenie standardowe wszystkich pomiarów"
   ]
  },
  {
   "cell_type": "code",
   "execution_count": 90,
   "metadata": {},
   "outputs": [
    {
     "name": "stdout",
     "output_type": "stream",
     "text": [
      "Std for all measurments: [10.21561763  8.00035036]\n"
     ]
    }
   ],
   "source": [
    "print(\"Std for all measurments: {0}\".format(np.std(NUMPY_DATA, axis=(0,1,2))))"
   ]
  },
  {
   "cell_type": "markdown",
   "metadata": {},
   "source": [
    "**Zadanie 4.** Przelicz średni wynik pomiaru dla całego okresu w odniesieniu do określonych serii (osobno dla pomiarów rannych, południowych i wieczornych)."
   ]
  },
  {
   "cell_type": "code",
   "execution_count": 92,
   "metadata": {},
   "outputs": [
    {
     "name": "stdout",
     "output_type": "stream",
     "text": [
      "Morning-serie mean: [122.5         78.88095238]\n",
      "Midday-serie mean: [124.88095238  81.57142857]\n",
      "Afternoon-serie mean: [118.97619048  78.28571429]\n"
     ]
    }
   ],
   "source": [
    "means_for_part_of_a_day = np.mean(NUMPY_DATA, axis=(2,0))\n",
    "print(f\"Morning-serie mean: {means_for_part_of_a_day[0]}\")\n",
    "print(f\"Midday-serie mean: {means_for_part_of_a_day[1]}\")\n",
    "print(f\"Afternoon-serie mean: {means_for_part_of_a_day[2]}\")"
   ]
  },
  {
   "cell_type": "markdown",
   "metadata": {},
   "source": [
    "**Zadanie 5.** Podaj ile pomiarów jednostkowych wskazywało na przekroczenie normy ciśnienia (o wartości 120/80)."
   ]
  },
  {
   "cell_type": "code",
   "execution_count": 93,
   "metadata": {},
   "outputs": [
    {
     "name": "stdout",
     "output_type": "stream",
     "text": [
      "Warning examples number: 96\n"
     ]
    }
   ],
   "source": [
    "waring_examples = NUMPY_DATA[(NUMPY_DATA[...,0] > 120) | (NUMPY_DATA[...,1] > 80)]\n",
    "print(f\"Warning examples number: {len(waring_examples)}\")"
   ]
  }
 ],
 "metadata": {
  "kernelspec": {
   "display_name": "Python 3",
   "language": "python",
   "name": "python3"
  },
  "language_info": {
   "codemirror_mode": {
    "name": "ipython",
    "version": 3
   },
   "file_extension": ".py",
   "mimetype": "text/x-python",
   "name": "python",
   "nbconvert_exporter": "python",
   "pygments_lexer": "ipython3",
   "version": "3.8.5"
  }
 },
 "nbformat": 4,
 "nbformat_minor": 4
}
