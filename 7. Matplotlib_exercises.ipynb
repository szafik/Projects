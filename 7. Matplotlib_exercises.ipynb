{
 "cells": [
  {
   "cell_type": "markdown",
   "metadata": {},
   "source": [
    "# Zadanie do wykonania"
   ]
  },
  {
   "cell_type": "code",
   "execution_count": 1,
   "metadata": {},
   "outputs": [],
   "source": [
    "import pandas as pd\n",
    "import numpy as np\n",
    "import matplotlib.pyplot as plt"
   ]
  },
  {
   "cell_type": "markdown",
   "metadata": {},
   "source": [
    "## Dane"
   ]
  },
  {
   "cell_type": "code",
   "execution_count": 2,
   "metadata": {},
   "outputs": [],
   "source": [
    "import os\n",
    "\n",
    "DATASETS_ROOT = \"./data\"\n",
    "STUDENTS_MATH_GRADES_DATASET_PATH = os.path.join(DATASETS_ROOT, \"student-mat.csv\")\n",
    "STUDENTS_MATH_GRADES_DATASET = pd.read_csv(\n",
    "    STUDENTS_MATH_GRADES_DATASET_PATH, \n",
    "    sep=\";\"\n",
    ")"
   ]
  },
  {
   "cell_type": "code",
   "execution_count": 3,
   "metadata": {},
   "outputs": [
    {
     "data": {
      "text/html": [
       "<div>\n",
       "<style scoped>\n",
       "    .dataframe tbody tr th:only-of-type {\n",
       "        vertical-align: middle;\n",
       "    }\n",
       "\n",
       "    .dataframe tbody tr th {\n",
       "        vertical-align: top;\n",
       "    }\n",
       "\n",
       "    .dataframe thead th {\n",
       "        text-align: right;\n",
       "    }\n",
       "</style>\n",
       "<table border=\"1\" class=\"dataframe\">\n",
       "  <thead>\n",
       "    <tr style=\"text-align: right;\">\n",
       "      <th></th>\n",
       "      <th>school</th>\n",
       "      <th>sex</th>\n",
       "      <th>age</th>\n",
       "      <th>address</th>\n",
       "      <th>famsize</th>\n",
       "      <th>Pstatus</th>\n",
       "      <th>Medu</th>\n",
       "      <th>Fedu</th>\n",
       "      <th>Mjob</th>\n",
       "      <th>Fjob</th>\n",
       "      <th>...</th>\n",
       "      <th>famrel</th>\n",
       "      <th>freetime</th>\n",
       "      <th>goout</th>\n",
       "      <th>Dalc</th>\n",
       "      <th>Walc</th>\n",
       "      <th>health</th>\n",
       "      <th>absences</th>\n",
       "      <th>G1</th>\n",
       "      <th>G2</th>\n",
       "      <th>G3</th>\n",
       "    </tr>\n",
       "  </thead>\n",
       "  <tbody>\n",
       "    <tr>\n",
       "      <th>0</th>\n",
       "      <td>GP</td>\n",
       "      <td>F</td>\n",
       "      <td>18</td>\n",
       "      <td>U</td>\n",
       "      <td>GT3</td>\n",
       "      <td>A</td>\n",
       "      <td>4</td>\n",
       "      <td>4</td>\n",
       "      <td>at_home</td>\n",
       "      <td>teacher</td>\n",
       "      <td>...</td>\n",
       "      <td>4</td>\n",
       "      <td>3</td>\n",
       "      <td>4</td>\n",
       "      <td>1</td>\n",
       "      <td>1</td>\n",
       "      <td>3</td>\n",
       "      <td>6</td>\n",
       "      <td>5</td>\n",
       "      <td>6</td>\n",
       "      <td>6</td>\n",
       "    </tr>\n",
       "    <tr>\n",
       "      <th>1</th>\n",
       "      <td>GP</td>\n",
       "      <td>F</td>\n",
       "      <td>17</td>\n",
       "      <td>U</td>\n",
       "      <td>GT3</td>\n",
       "      <td>T</td>\n",
       "      <td>1</td>\n",
       "      <td>1</td>\n",
       "      <td>at_home</td>\n",
       "      <td>other</td>\n",
       "      <td>...</td>\n",
       "      <td>5</td>\n",
       "      <td>3</td>\n",
       "      <td>3</td>\n",
       "      <td>1</td>\n",
       "      <td>1</td>\n",
       "      <td>3</td>\n",
       "      <td>4</td>\n",
       "      <td>5</td>\n",
       "      <td>5</td>\n",
       "      <td>6</td>\n",
       "    </tr>\n",
       "    <tr>\n",
       "      <th>2</th>\n",
       "      <td>GP</td>\n",
       "      <td>F</td>\n",
       "      <td>15</td>\n",
       "      <td>U</td>\n",
       "      <td>LE3</td>\n",
       "      <td>T</td>\n",
       "      <td>1</td>\n",
       "      <td>1</td>\n",
       "      <td>at_home</td>\n",
       "      <td>other</td>\n",
       "      <td>...</td>\n",
       "      <td>4</td>\n",
       "      <td>3</td>\n",
       "      <td>2</td>\n",
       "      <td>2</td>\n",
       "      <td>3</td>\n",
       "      <td>3</td>\n",
       "      <td>10</td>\n",
       "      <td>7</td>\n",
       "      <td>8</td>\n",
       "      <td>10</td>\n",
       "    </tr>\n",
       "    <tr>\n",
       "      <th>3</th>\n",
       "      <td>GP</td>\n",
       "      <td>F</td>\n",
       "      <td>15</td>\n",
       "      <td>U</td>\n",
       "      <td>GT3</td>\n",
       "      <td>T</td>\n",
       "      <td>4</td>\n",
       "      <td>2</td>\n",
       "      <td>health</td>\n",
       "      <td>services</td>\n",
       "      <td>...</td>\n",
       "      <td>3</td>\n",
       "      <td>2</td>\n",
       "      <td>2</td>\n",
       "      <td>1</td>\n",
       "      <td>1</td>\n",
       "      <td>5</td>\n",
       "      <td>2</td>\n",
       "      <td>15</td>\n",
       "      <td>14</td>\n",
       "      <td>15</td>\n",
       "    </tr>\n",
       "    <tr>\n",
       "      <th>4</th>\n",
       "      <td>GP</td>\n",
       "      <td>F</td>\n",
       "      <td>16</td>\n",
       "      <td>U</td>\n",
       "      <td>GT3</td>\n",
       "      <td>T</td>\n",
       "      <td>3</td>\n",
       "      <td>3</td>\n",
       "      <td>other</td>\n",
       "      <td>other</td>\n",
       "      <td>...</td>\n",
       "      <td>4</td>\n",
       "      <td>3</td>\n",
       "      <td>2</td>\n",
       "      <td>1</td>\n",
       "      <td>2</td>\n",
       "      <td>5</td>\n",
       "      <td>4</td>\n",
       "      <td>6</td>\n",
       "      <td>10</td>\n",
       "      <td>10</td>\n",
       "    </tr>\n",
       "    <tr>\n",
       "      <th>...</th>\n",
       "      <td>...</td>\n",
       "      <td>...</td>\n",
       "      <td>...</td>\n",
       "      <td>...</td>\n",
       "      <td>...</td>\n",
       "      <td>...</td>\n",
       "      <td>...</td>\n",
       "      <td>...</td>\n",
       "      <td>...</td>\n",
       "      <td>...</td>\n",
       "      <td>...</td>\n",
       "      <td>...</td>\n",
       "      <td>...</td>\n",
       "      <td>...</td>\n",
       "      <td>...</td>\n",
       "      <td>...</td>\n",
       "      <td>...</td>\n",
       "      <td>...</td>\n",
       "      <td>...</td>\n",
       "      <td>...</td>\n",
       "      <td>...</td>\n",
       "    </tr>\n",
       "    <tr>\n",
       "      <th>390</th>\n",
       "      <td>MS</td>\n",
       "      <td>M</td>\n",
       "      <td>20</td>\n",
       "      <td>U</td>\n",
       "      <td>LE3</td>\n",
       "      <td>A</td>\n",
       "      <td>2</td>\n",
       "      <td>2</td>\n",
       "      <td>services</td>\n",
       "      <td>services</td>\n",
       "      <td>...</td>\n",
       "      <td>5</td>\n",
       "      <td>5</td>\n",
       "      <td>4</td>\n",
       "      <td>4</td>\n",
       "      <td>5</td>\n",
       "      <td>4</td>\n",
       "      <td>11</td>\n",
       "      <td>9</td>\n",
       "      <td>9</td>\n",
       "      <td>9</td>\n",
       "    </tr>\n",
       "    <tr>\n",
       "      <th>391</th>\n",
       "      <td>MS</td>\n",
       "      <td>M</td>\n",
       "      <td>17</td>\n",
       "      <td>U</td>\n",
       "      <td>LE3</td>\n",
       "      <td>T</td>\n",
       "      <td>3</td>\n",
       "      <td>1</td>\n",
       "      <td>services</td>\n",
       "      <td>services</td>\n",
       "      <td>...</td>\n",
       "      <td>2</td>\n",
       "      <td>4</td>\n",
       "      <td>5</td>\n",
       "      <td>3</td>\n",
       "      <td>4</td>\n",
       "      <td>2</td>\n",
       "      <td>3</td>\n",
       "      <td>14</td>\n",
       "      <td>16</td>\n",
       "      <td>16</td>\n",
       "    </tr>\n",
       "    <tr>\n",
       "      <th>392</th>\n",
       "      <td>MS</td>\n",
       "      <td>M</td>\n",
       "      <td>21</td>\n",
       "      <td>R</td>\n",
       "      <td>GT3</td>\n",
       "      <td>T</td>\n",
       "      <td>1</td>\n",
       "      <td>1</td>\n",
       "      <td>other</td>\n",
       "      <td>other</td>\n",
       "      <td>...</td>\n",
       "      <td>5</td>\n",
       "      <td>5</td>\n",
       "      <td>3</td>\n",
       "      <td>3</td>\n",
       "      <td>3</td>\n",
       "      <td>3</td>\n",
       "      <td>3</td>\n",
       "      <td>10</td>\n",
       "      <td>8</td>\n",
       "      <td>7</td>\n",
       "    </tr>\n",
       "    <tr>\n",
       "      <th>393</th>\n",
       "      <td>MS</td>\n",
       "      <td>M</td>\n",
       "      <td>18</td>\n",
       "      <td>R</td>\n",
       "      <td>LE3</td>\n",
       "      <td>T</td>\n",
       "      <td>3</td>\n",
       "      <td>2</td>\n",
       "      <td>services</td>\n",
       "      <td>other</td>\n",
       "      <td>...</td>\n",
       "      <td>4</td>\n",
       "      <td>4</td>\n",
       "      <td>1</td>\n",
       "      <td>3</td>\n",
       "      <td>4</td>\n",
       "      <td>5</td>\n",
       "      <td>0</td>\n",
       "      <td>11</td>\n",
       "      <td>12</td>\n",
       "      <td>10</td>\n",
       "    </tr>\n",
       "    <tr>\n",
       "      <th>394</th>\n",
       "      <td>MS</td>\n",
       "      <td>M</td>\n",
       "      <td>19</td>\n",
       "      <td>U</td>\n",
       "      <td>LE3</td>\n",
       "      <td>T</td>\n",
       "      <td>1</td>\n",
       "      <td>1</td>\n",
       "      <td>other</td>\n",
       "      <td>at_home</td>\n",
       "      <td>...</td>\n",
       "      <td>3</td>\n",
       "      <td>2</td>\n",
       "      <td>3</td>\n",
       "      <td>3</td>\n",
       "      <td>3</td>\n",
       "      <td>5</td>\n",
       "      <td>5</td>\n",
       "      <td>8</td>\n",
       "      <td>9</td>\n",
       "      <td>9</td>\n",
       "    </tr>\n",
       "  </tbody>\n",
       "</table>\n",
       "<p>395 rows × 33 columns</p>\n",
       "</div>"
      ],
      "text/plain": [
       "    school sex  age address famsize Pstatus  Medu  Fedu      Mjob      Fjob  \\\n",
       "0       GP   F   18       U     GT3       A     4     4   at_home   teacher   \n",
       "1       GP   F   17       U     GT3       T     1     1   at_home     other   \n",
       "2       GP   F   15       U     LE3       T     1     1   at_home     other   \n",
       "3       GP   F   15       U     GT3       T     4     2    health  services   \n",
       "4       GP   F   16       U     GT3       T     3     3     other     other   \n",
       "..     ...  ..  ...     ...     ...     ...   ...   ...       ...       ...   \n",
       "390     MS   M   20       U     LE3       A     2     2  services  services   \n",
       "391     MS   M   17       U     LE3       T     3     1  services  services   \n",
       "392     MS   M   21       R     GT3       T     1     1     other     other   \n",
       "393     MS   M   18       R     LE3       T     3     2  services     other   \n",
       "394     MS   M   19       U     LE3       T     1     1     other   at_home   \n",
       "\n",
       "     ... famrel freetime  goout  Dalc  Walc health absences  G1  G2  G3  \n",
       "0    ...      4        3      4     1     1      3        6   5   6   6  \n",
       "1    ...      5        3      3     1     1      3        4   5   5   6  \n",
       "2    ...      4        3      2     2     3      3       10   7   8  10  \n",
       "3    ...      3        2      2     1     1      5        2  15  14  15  \n",
       "4    ...      4        3      2     1     2      5        4   6  10  10  \n",
       "..   ...    ...      ...    ...   ...   ...    ...      ...  ..  ..  ..  \n",
       "390  ...      5        5      4     4     5      4       11   9   9   9  \n",
       "391  ...      2        4      5     3     4      2        3  14  16  16  \n",
       "392  ...      5        5      3     3     3      3        3  10   8   7  \n",
       "393  ...      4        4      1     3     4      5        0  11  12  10  \n",
       "394  ...      3        2      3     3     3      5        5   8   9   9  \n",
       "\n",
       "[395 rows x 33 columns]"
      ]
     },
     "execution_count": 3,
     "metadata": {},
     "output_type": "execute_result"
    }
   ],
   "source": [
    "STUDENTS_MATH_GRADES_DATASET"
   ]
  },
  {
   "cell_type": "markdown",
   "metadata": {},
   "source": [
    "## Treść zadań"
   ]
  },
  {
   "cell_type": "markdown",
   "metadata": {},
   "source": [
    "### Funkcje pomocnicze"
   ]
  },
  {
   "cell_type": "code",
   "execution_count": 4,
   "metadata": {},
   "outputs": [],
   "source": [
    "from typing import Callable"
   ]
  },
  {
   "cell_type": "code",
   "execution_count": 5,
   "metadata": {},
   "outputs": [],
   "source": [
    "def test_single_axes_plot(\n",
    "    plot_fun: Callable[[plt.Figure, plt.Axes, pd.DataFrame], None],\n",
    "    data: pd.DataFrame\n",
    ") -> None:\n",
    "    figure, ax = plt.subplots(1, 1, figsize=(6, 6))\n",
    "    plot_fun(figure, ax, data)\n",
    "    plt.show()"
   ]
  },
  {
   "cell_type": "markdown",
   "metadata": {},
   "source": [
    "__Zadanie 1.__\n",
    "\n",
    "Narysuj wykres słupkowy ze średnimi i odchyleniami standardowymi wartości kolumn __Medu, Fedu, traveltime, studytime, health__. \n",
    "\n",
    "Zadbaj o czytelność (dodaj podpisy osi i samego wykresu). \n",
    "\n",
    "__Oczekiwane rozwiązanie:__\n",
    "\n",
    "![solution](./data/ex_1_result.png)"
   ]
  },
  {
   "cell_type": "code",
   "execution_count": 13,
   "metadata": {},
   "outputs": [],
   "source": [
    "def plot_numeric_column_means(\n",
    "    figure: plt.Figure,\n",
    "    ax: plt.Axes,\n",
    "    data: pd.DataFrame\n",
    ") -> None:\n",
    "    columns = [\"Medu\", \"Fedu\", \"traveltime\", \"studytime\", \"health\"]\n",
    "    plot_data_mean = data[columns].mean()\n",
    "    plot_data_std = data[columns].std()\n",
    "    x=np.arange(len(columns))\n",
    "    ax.bar(x, height=plot_data_mean.values, yerr=plot_data_std.values, color='g', width=0.6)\n",
    "    \n",
    "    ax.set_xticks(x)\n",
    "    ax.set_xticklabels(columns)\n",
    "    ax.set_title(\"Columns mean and std values\")\n",
    "    ax.set_ylabel(\"Feature column mean\")\n",
    "    ax.set_xlabel(\"Features\")\n"
   ]
  },
  {
   "cell_type": "code",
   "execution_count": 14,
   "metadata": {},
   "outputs": [
    {
     "data": {
      "image/png": "[encoded data removed]",
      "text/plain": [
       "<Figure size 432x432 with 1 Axes>"
      ]
     },
     "metadata": {
      "needs_background": "light"
     },
     "output_type": "display_data"
    }
   ],
   "source": [
    "test_single_axes_plot(\n",
    "    plot_fun=plot_numeric_column_means,\n",
    "    data=STUDENTS_MATH_GRADES_DATASET\n",
    ")"
   ]
  },
  {
   "cell_type": "markdown",
   "metadata": {},
   "source": [
    "__Zadanie 2.__\n",
    "\n",
    "Narysuj wykres słupkowy obrazujący wartości średnie kolumn __famrel, freetime, goout, absences__ w zależności od wartości kolumny __famsize__. Zadbaj o czytelność (dodaj podpisy osi i samego wykresu).\n",
    "\n",
    "__Oczekiwane rozwiązanie:__\n",
    "\n",
    "![solution](./data/ex_2_result.png)"
   ]
  },
  {
   "cell_type": "code",
   "execution_count": 57,
   "metadata": {},
   "outputs": [],
   "source": [
    "def plot_famsize_based_bars(\n",
    "    figure: plt.Figure,\n",
    "    ax: plt.Axes,\n",
    "    data: pd.DataFrame\n",
    ") -> None:\n",
    "    columns = [\"famsize\", \"famrel\", \"freetime\", \"goout\", \"absences\"]\n",
    "    plot_data = data[columns].groupby(\"famsize\").agg(np.mean)\n",
    "    means_gt3 = plot_data.loc[\"GT3\", :]\n",
    "    means_le3 = plot_data.loc[\"LE3\", :]\n",
    "    x=np.arange(len(columns) - 1)\n",
    "    width = 0.3\n",
    "    ax.bar(x-width/2, height=means_gt3, width = width, color='r', label='GT3')\n",
    "    ax.bar(x+width/2, height=means_le3, width = width, color='g', label=\"LE3\")\n",
    "    ax.set_xticks(x)\n",
    "    ax.set_xticklabels(columns[1:])\n",
    "    ax.set_title(\"Columns mean values w.r.t famsize\")\n",
    "    ax.set_ylabel(\"Feature column mean\")\n",
    "    ax.set_xlabel(\"Features\")\n",
    "    ax.legend(loc=\"upper left\")"
   ]
  },
  {
   "cell_type": "code",
   "execution_count": 58,
   "metadata": {},
   "outputs": [
    {
     "data": {
      "image/png": "[encoded data removed]",
      "text/plain": [
       "<Figure size 432x432 with 1 Axes>"
      ]
     },
     "metadata": {
      "needs_background": "light"
     },
     "output_type": "display_data"
    }
   ],
   "source": [
    "test_single_axes_plot(\n",
    "    plot_fun=plot_famsize_based_bars,\n",
    "    data=STUDENTS_MATH_GRADES_DATASET\n",
    ")"
   ]
  },
  {
   "cell_type": "markdown",
   "metadata": {},
   "source": [
    "__Zadanie 3.__\n",
    "\n",
    "Narysuj histogram kolumny __Mjob__. Zadbaj o czytelność (dodaj podpisy osi i samego wykresu).\n",
    "\n",
    "__Oczekiwane rozwiązanie:__\n",
    "\n",
    "![solution](./data/ex_3_result.png)"
   ]
  },
  {
   "cell_type": "code",
   "execution_count": 149,
   "metadata": {},
   "outputs": [],
   "source": [
    "def plot_mjob_histogram(\n",
    "    figure: plt.Figure,\n",
    "    ax: plt.Axes,\n",
    "    data: pd.DataFrame\n",
    ") -> None:\n",
    "    plot_data = data.Mjob\n",
    "    unique_values = plot_data.unique()\n",
    "    width = 0.7\n",
    "    ax.hist(plot_data, bins=np.arange(len(unique_values)+1), width=width,  color=\"g\")\n",
    "    #ax.set_xticklabels(unique_values)\n",
    "    ax.set_xticks(np.arange(len(unique_values)) + width/2)\n",
    "    ax.set_xlim(-0.1, len(unique_values) - 1 + width + 0.1)\n",
    "    ax.set_title(\"Histogram of Mjob values\")\n",
    "    ax.set_ylabel(\"Examples count\")\n",
    "    ax.set_xlabel(\"Mjob type\")\n",
    "    \n",
    "    "
   ]
  },
  {
   "cell_type": "code",
   "execution_count": 150,
   "metadata": {},
   "outputs": [
    {
     "data": {
      "image/png": "[encoded data removed]",
      "text/plain": [
       "<Figure size 432x432 with 1 Axes>"
      ]
     },
     "metadata": {
      "needs_background": "light"
     },
     "output_type": "display_data"
    }
   ],
   "source": [
    "test_single_axes_plot(\n",
    "    plot_fun=plot_mjob_histogram,\n",
    "    data=STUDENTS_MATH_GRADES_DATASET\n",
    ")"
   ]
  },
  {
   "cell_type": "markdown",
   "metadata": {},
   "source": [
    "__Zadanie 4.__\n",
    "\n",
    "Narysuj heatmap'e korelacji między danymi zapisanymi w kolumnach __health, G1, G2, G3__.\n",
    "\n",
    "Zadbaj o podpisanie osi i samego wykresu oraz dodanie wskaźnika obrazującego wartości przypisane do poszczególnych kolorów (colorbar).\n",
    "\n",
    "Z racji użycia korelacji Pearsona (https://en.wikipedia.org/wiki/Pearson_correlation_coefficient) wyskaluj wartości heatmapy w zakresie [-1, 1]. Użyj mapy kolorów \"RdYlGn\".\n",
    "\n",
    "\n",
    "__Zadanie dodatkowe__\n",
    "\n",
    "Uzupełnij implementację funkcji __annotate_heatmap()__, która dla każdego pola heatmapy wpisze wartość liczbową.\n",
    "\n",
    "_Hint: https://matplotlib.org/3.2.1/api/_as_gen/matplotlib.axes.Axes.text.html_\n",
    "\n",
    "\n",
    "__Oczekiwane rozwiązanie:__\n",
    "\n",
    "![solution](./data/ex_4_result.png)"
   ]
  },
  {
   "cell_type": "code",
   "execution_count": 204,
   "metadata": {},
   "outputs": [],
   "source": [
    "def plot_correlation(\n",
    "    figure: plt.Figure,\n",
    "    ax: plt.Axes,\n",
    "    data: pd.DataFrame\n",
    ") -> None:\n",
    "    columns = [\"health\", \"G1\", \"G2\", \"G3\"]\n",
    "    plot_data = data[columns].corr()\n",
    "    #heatmap = ax.hist2d(plot_data)\n",
    "    heat_map = ax.imshow(plot_data, cmap=\"RdYlGn\", vmin=-1, vmax=1)\n",
    "    \n",
    "    ax.set_xticks(np.arange(len(columns)))\n",
    "    ax.set_xticklabels(columns)\n",
    "    ax.set_yticks(np.arange(len(columns)))\n",
    "    ax.set_yticklabels(columns)\n",
    "    \n",
    "    for i in range(len(columns)):\n",
    "        for j in range(len(columns)):\n",
    "            ax.text(i, j, round(plot_data.iloc[i,j],3), ha=\"center\", va=\"center\", color=\"black\")\n",
    "    \n",
    "    figure.colorbar(heat_map)\n",
    "    ax.set_title(\"Correlation between {}\".format(columns))\n",
    "    \n",
    "def annotate_heatmap(\n",
    "    ax: plt.Axes,\n",
    "    plot_data: pd.DataFrame\n",
    ") -> None:\n",
    "    "
   ]
  },
  {
   "cell_type": "code",
   "execution_count": 205,
   "metadata": {},
   "outputs": [
    {
     "data": {
      "image/png": "[encoded data removed]",
      "text/plain": [
       "<Figure size 432x432 with 2 Axes>"
      ]
     },
     "metadata": {
      "needs_background": "light"
     },
     "output_type": "display_data"
    }
   ],
   "source": [
    "test_single_axes_plot(\n",
    "    plot_fun=plot_correlation,\n",
    "    data=STUDENTS_MATH_GRADES_DATASET\n",
    ")"
   ]
  },
  {
   "cell_type": "markdown",
   "metadata": {},
   "source": [
    "__Zadanie 5.__\n",
    "\n",
    "Uzupełnij funkcję create_grid_subplots(...) w ten sposób, aby rysowała wykresy z Zadań 1-4 na siatce 2x2.\n",
    "\n",
    "_Hint: Zbadaj implementację __test_single_axes_plot(...)__._ \n",
    "\n",
    "__Oczekiwane rozwiązanie:__\n",
    "\n",
    "![solution](./data/ex_5_result.png)"
   ]
  },
  {
   "cell_type": "code",
   "execution_count": 208,
   "metadata": {},
   "outputs": [],
   "source": [
    "def create_grid_subplots(data: pd.DataFrame) -> None:\n",
    "    plotting_funs = [\n",
    "        plot_numeric_column_means, plot_famsize_based_bars,\n",
    "        plot_correlation, plot_mjob_histogram\n",
    "    ]\n",
    "    figure, axs = plt.subplots(2,2, figsize=(12,12))\n",
    "    axs = [ax for ax_row in axs for ax in ax_row]\n",
    "    for plotting_fun, ax in zip(plotting_funs, axs):\n",
    "        plotting_fun(figure, ax, data)\n",
    "    plt.tight_layout()\n",
    "    plt.show()\n",
    "        "
   ]
  },
  {
   "cell_type": "code",
   "execution_count": 209,
   "metadata": {},
   "outputs": [
    {
     "data": {
      "image/png": "[encoded data removed]",
      "text/plain": [
       "<Figure size 864x864 with 5 Axes>"
      ]
     },
     "metadata": {
      "needs_background": "light"
     },
     "output_type": "display_data"
    }
   ],
   "source": [
    "create_grid_subplots(data=STUDENTS_MATH_GRADES_DATASET)"
   ]
  },
  {
   "cell_type": "code",
   "execution_count": null,
   "metadata": {},
   "outputs": [],
   "source": []
  }
 ],
 "metadata": {
  "kernelspec": {
   "display_name": "Python 3",
   "language": "python",
   "name": "python3"
  },
  "language_info": {
   "codemirror_mode": {
    "name": "ipython",
    "version": 3
   },
   "file_extension": ".py",
   "mimetype": "text/x-python",
   "name": "python",
   "nbconvert_exporter": "python",
   "pygments_lexer": "ipython3",
   "version": "3.8.5"
  }
 },
 "nbformat": 4,
 "nbformat_minor": 4
}
